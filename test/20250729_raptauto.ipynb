{
 "cells": [
  {
   "cell_type": "code",
   "execution_count": 47,
   "id": "2c562553",
   "metadata": {},
   "outputs": [],
   "source": [
    "import pyautogui  \n",
    "import cv2  \n",
    "import pytesseract  \n",
    "import time"
   ]
  },
  {
   "cell_type": "code",
   "execution_count": 48,
   "id": "bb1c342d",
   "metadata": {},
   "outputs": [
    {
     "data": {
      "text/plain": [
       "'0.9.54'"
      ]
     },
     "execution_count": 48,
     "metadata": {},
     "output_type": "execute_result"
    }
   ],
   "source": [
    " pyautogui.__version__\n"
   ]
  },
  {
   "cell_type": "code",
   "execution_count": 49,
   "id": "627b87b3",
   "metadata": {},
   "outputs": [],
   "source": [
    "def wait_and_click_save(image_path, timeout=400, interval=10, max_retries=40):\n",
    "    \"\"\"\n",
    "    等待指定图片出现并点击，支持超时和重试机制\n",
    "    :param image_path: 图片路径（如 \"SAVE.PNG\"）\n",
    "    :param timeout: 单次等待超时时间（秒）\n",
    "    :param interval: 每次检测间隔（秒）\n",
    "    :param max_retries: 最大重试次数\n",
    "    \"\"\"\n",
    "    retry_count = 0\n",
    "    while retry_count < max_retries:\n",
    "        start_time = time.time()\n",
    "        found = False\n",
    "        \n",
    "        # 单次等待循环\n",
    "        while time.time() - start_time < timeout:\n",
    "            try:\n",
    "                # 尝试定位图片（启用 OpenCV 加速，设置置信度阈值）\n",
    "                location = pyautogui.locateOnScreen(\n",
    "                    image_path, \n",
    "                    grayscale=True, \n",
    "                    confidence=0.8  # 需安装 OpenCV 才能使用此参数 [11](@ref)\n",
    "                )\n",
    "                if location:\n",
    "                    center = pyautogui.center(location)\n",
    "                    pyautogui.click(center)\n",
    "                    print(f\"成功点击 {image_path} 位置: {center}\")\n",
    "                    found = True\n",
    "                    break\n",
    "                else:\n",
    "                    time.sleep(interval)  # 未找到则等待\n",
    "            except pyautogui.ImageNotFoundException:\n",
    "                time.sleep(interval)  # 捕获异常后继续等待 [10,11](@ref)\n",
    "        \n",
    "        if found:\n",
    "            return True\n",
    "        else:\n",
    "            retry_count += 1\n",
    "            print(f\"第 {retry_count} 次重试，等待 {image_path} 出现...\")\n",
    "    \n",
    "    print(f\"错误: 在 {max_retries} 次重试后仍未找到 {image_path}\")\n",
    "    return False"
   ]
  },
  {
   "cell_type": "code",
   "execution_count": 50,
   "id": "7e7868d1",
   "metadata": {},
   "outputs": [],
   "source": [
    "\n",
    "def autoprint():\n",
    "    #screenshot = pyautogui.screenshot()\n",
    "    #screenshot.save(\"current_screen.png\")\n",
    "    \n",
    "\n",
    "    \n",
    "    \n",
    "\n",
    "\n",
    "    pyautogui.moveTo(10,10)\n",
    "    pyautogui.leftClick(101,0)\n",
    "\n",
    "    time.sleep(5)\n",
    "\n",
    "    location_report = pyautogui.locateOnScreen('report.png')\n",
    "    if location_report is not None:\n",
    "        report_pos = pyautogui.center(location_report)\n",
    "        print(f\"found the button at:{location_report}\")\n",
    "        print(report_pos)\n",
    "    else:\n",
    "        print(\"No button\")\n",
    "    \n",
    "    \n",
    "    pyautogui.leftClick(report_pos)\n",
    "    time.sleep(5)\n",
    "\n",
    "\n",
    "    location_CR = pyautogui.locateOnScreen('CreateReport.png')\n",
    "    if location_CR is not None:\n",
    "        CR_pos = pyautogui.center(location_CR)\n",
    "        print(f\"found the button at:{location_CR}\")\n",
    "    else:\n",
    "        print(\"No button\")\n",
    "    pyautogui.leftClick(CR_pos)\n",
    "    time.sleep(15)\n",
    "\n",
    "    pyautogui.hotkey('ctrl','p')\n",
    "    time.sleep(15)\n",
    "\n",
    "    OK_loc = pyautogui.locateCenterOnScreen('OK.png')\n",
    "    pyautogui.leftClick(OK_loc)\n",
    "\n",
    "    pyautogui.sleep(10)\n",
    "\n",
    "    wait_and_click_save(\"Save.PNG\", timeout=400, max_retries=40)\n",
    "\n"
   ]
  },
  {
   "cell_type": "code",
   "execution_count": null,
   "id": "e6f06dbe",
   "metadata": {},
   "outputs": [],
   "source": []
  },
  {
   "cell_type": "code",
   "execution_count": 51,
   "id": "53a20c8e",
   "metadata": {},
   "outputs": [
    {
     "name": "stdout",
     "output_type": "stream",
     "text": [
      "found the button at:Box(left=np.int64(169), top=np.int64(23), width=49, height=19)\n",
      "Point(x=np.int64(193), y=np.int64(32))\n",
      "found the button at:Box(left=np.int64(169), top=np.int64(42), width=217, height=26)\n",
      "成功点击 Save.PNG 位置: Point(x=np.int64(1513), y=np.int64(674))\n"
     ]
    }
   ],
   "source": [
    "autoprint()\n"
   ]
  }
 ],
 "metadata": {
  "kernelspec": {
   "display_name": "dailypy39",
   "language": "python",
   "name": "python3"
  },
  "language_info": {
   "codemirror_mode": {
    "name": "ipython",
    "version": 3
   },
   "file_extension": ".py",
   "mimetype": "text/x-python",
   "name": "python",
   "nbconvert_exporter": "python",
   "pygments_lexer": "ipython3",
   "version": "3.9.19"
  }
 },
 "nbformat": 4,
 "nbformat_minor": 5
}
